{
  "cells": [
    {
      "cell_type": "markdown",
      "metadata": {
        "id": "sYl8avLhCcxX"
      },
      "source": [
        "# Lab 02: Exploratory Data Analysis\n",
        "**Do not use loops in this lab**\n",
        "\n",
        "\n",
        "- Name: Ngô Văn Trung Nguyên\n",
        "\n",
        "- Student's ID: 20127054"
      ]
    },
    {
      "cell_type": "markdown",
      "metadata": {
        "id": "Gtq0eoUbCcxf"
      },
      "source": [
        "***\n",
        "## How to do and submit assignments\n",
        "\n",
        "&#9889; You should note that I will be using a grading support program, so you need to follow the exact rules that I set, if you are not sure, please ask me, not arbitrarily follow your own will.\n",
        "\n",
        "**How to do**\n",
        "You will do it directly on this notebook file. First, enter your name and student's id in the file header above. In the file, you will complete the required in the position where be written:\n",
        "\n",
        "```python\n",
        "# YOUR CODE HERE\n",
        "raise NotImplementedError()\n",
        "```\n",
        "\n",
        "When you do, you delete the line `raise NotImplementedError()`.\n",
        "\n",
        "For the parts that require code, usually right below there will be a cell (or several) containing test sets to help you know if the code is correct or not. If running this cell has no errors, it means that the test sets are passed.\n",
        "\n",
        "In some cases, the test suites may be incomplete, that is, if the test fails, the code is wrong, but if it passes the test, it is not sure correct.\n",
        "\n",
        "While doing the test, you can print to the screen, create more cells for testing. But when submitting, you delete the cells that you create, delete or comment the statements printed to the screen. Please note that <font color=red> must not delete cells or edit my code </font> (except where editing is allowed as mentioned above).\n",
        "\n",
        "While doing the test, often `Ctrl + S` to save your work, avoid loss of information.\n",
        "\n",
        "**How to submit**\n",
        "\n",
        "When grading, I will first choose `Kernel` - `Restart & Run All`, to restart and run all cells in your notebook; therefore, before submitting your lab, you should test run `Kernel` - `Restart & Run All` to make sure everything goes as expected.\n",
        "\n",
        "Then you create a submission folder with the following structure:\n",
        "- The `ID's student` folder (eg, if you have an MSSV of 1234567, name the folder `1234567`)\n",
        "     - File `Lab02_Exploratory_Data_Analysis.ipynb` (no need to submit other files)\n",
        "\n",
        "Finally, you zip this `ID's studen` folder and submit it at the link on moodle. The extension of the compressed file must be .zip (not .rar or anything else).\n"
      ]
    },
    {
      "cell_type": "markdown",
      "metadata": {
        "Collapsed": "false",
        "id": "Lm1UXT03Ccxg"
      },
      "source": [
        "---"
      ]
    },
    {
      "cell_type": "markdown",
      "metadata": {
        "id": "dvtV-Z3hCcxh"
      },
      "source": [
        "## Import"
      ]
    },
    {
      "cell_type": "code",
      "execution_count": 1,
      "metadata": {
        "id": "XEV_d6QBCcxi"
      },
      "outputs": [],
      "source": [
        "import matplotlib.pyplot as plt\n",
        "import numpy as np\n",
        "import pandas as pd \n",
        "# YOUR CODE HERE (OPTION) \n",
        "# You can import others library in here"
      ]
    },
    {
      "cell_type": "markdown",
      "metadata": {
        "id": "Fo87glb9Ccxk"
      },
      "source": [
        "---"
      ]
    },
    {
      "cell_type": "markdown",
      "metadata": {
        "id": "PSOTpJGDCcxl"
      },
      "source": [
        "## Data Collection"
      ]
    },
    {
      "cell_type": "markdown",
      "metadata": {
        "id": "0Fjrtp7VCcxm"
      },
      "source": [
        "The data used in this exercise is the StackOverflow developer survey data. I downloaded the data [here](https://drive.google.com/file/d/1dfGerWeWkcyQ9GX9x20rdSGj7WtEpzBB/view) and removed some columns to simplify.\n",
        "\n",
        "As described in the StackOverflow \"README_2020.txt\" file:\n",
        ">The enclosed data set is the full, cleaned results of the 2020 Stack Overflow Developer Survey. Free response submissions and personally identifying information have been removed from the results to protect the privacy of respondents. There are three files besides this README:\n",
        ">\n",
        ">1. survey_results_public.csv - CSV file with main survey results, one respondent per row and one column per answer\n",
        ">2. survey_results_schema.csv - CSV file with survey schema, i.e., the questions that correspond to each column name\n",
        ">3. so_survey_2020.pdf - PDF file of survey instrument\n",
        ">\n",
        ">The survey was fielded from February 5 to February 28, 2020. The median time spent on the survey for qualified responses was 16.6 minutes.\n",
        ">\n",
        ">Respondents were recruited primarily through channels owned by Stack Overflow. The top 5 sources of respondents were onsite messaging, blog posts, email lists, Meta posts, banner ads, and social media posts. Since respondents were recruited in this way, highly engaged users on Stack Overflow were more likely to notice the links for the survey and click to begin it.\n",
        "\n",
        "The file \"survey_results_public-short.csv\" that I attached is a simplified version of the file \"survey_results_public.csv\" (from 61 columns, I reduced to 29 columns). This is the main data file that you will work with in this lab. In addition, I have attached 2 additional files: (1) the file \"survey_results_schema-short.csv\" is the file that shows the meaning of the columns, and (2) the file \"so_survey_2020.pdf\" is the original survey file of StackOverflow.\n",
        "\n",
        ">This database - The Public 2020 Stack Overflow Developer Survey Results - is made available under the Open Database License (ODbL): http://opendatacommons.org/licenses/odbl/1.0/. Any rights in individual contents of the database are licensed under the Database Contents License: http://opendatacommons.org/licenses/dbcl/1.0/\n",
        ">\n",
        ">TLDR: You are free to share, adapt, and create derivative works from The Public 2020 Stack Overflow Developer Survey Results as long as you attribute Stack Overflow, keep the database open (if you redistribute it), and continue to share-alike any adapted database under the ODbl.\n"
      ]
    },
    {
      "cell_type": "markdown",
      "metadata": {
        "id": "l-fyM6NLCcxm"
      },
      "source": [
        "---"
      ]
    },
    {
      "cell_type": "markdown",
      "metadata": {
        "id": "vhOocHT_Ccxn"
      },
      "source": [
        "## Data Exploratory"
      ]
    },
    {
      "cell_type": "markdown",
      "metadata": {
        "id": "E_9RjSvGCcxn"
      },
      "source": [
        "### Load data (0.25đ)"
      ]
    },
    {
      "cell_type": "markdown",
      "metadata": {
        "id": "veCmIHNHCcxn"
      },
      "source": [
        "First, you will read data file \"survey_results_public-short.csv\" and save to DataFrame `survey_df`. In addition, you also need to set the `Respondent` column (the surveyor's id) to the index column of `survey_df`."
      ]
    },
    {
      "cell_type": "code",
      "execution_count": 2,
      "metadata": {
        "deletable": false,
        "id": "M9bRBUd3Ccxo",
        "nbgrader": {
          "cell_type": "code",
          "checksum": "0bf411943f48101b385795cb06db43f4",
          "grade": true,
          "grade_id": "cell-d46e97079096473c",
          "locked": false,
          "points": 0.25,
          "schema_version": 3,
          "solution": true,
          "task": false
        }
      },
      "outputs": [],
      "source": [
        "# YOUR CODE HERE\n",
        "survey_df = pd.read_csv('survey_results_public-short.csv')\n",
        "survey_df = survey_df.set_index('Respondent')\n",
        "#raise NotImplementedError()"
      ]
    },
    {
      "cell_type": "code",
      "execution_count": 3,
      "metadata": {
        "id": "Zis8rx8bCcxo"
      },
      "outputs": [
        {
          "data": {
            "text/html": [
              "<div>\n",
              "<style scoped>\n",
              "    .dataframe tbody tr th:only-of-type {\n",
              "        vertical-align: middle;\n",
              "    }\n",
              "\n",
              "    .dataframe tbody tr th {\n",
              "        vertical-align: top;\n",
              "    }\n",
              "\n",
              "    .dataframe thead th {\n",
              "        text-align: right;\n",
              "    }\n",
              "</style>\n",
              "<table border=\"1\" class=\"dataframe\">\n",
              "  <thead>\n",
              "    <tr style=\"text-align: right;\">\n",
              "      <th></th>\n",
              "      <th>MainBranch</th>\n",
              "      <th>Hobbyist</th>\n",
              "      <th>Age</th>\n",
              "      <th>ConvertedComp</th>\n",
              "      <th>Country</th>\n",
              "      <th>DevType</th>\n",
              "      <th>EdLevel</th>\n",
              "      <th>Employment</th>\n",
              "      <th>Ethnicity</th>\n",
              "      <th>Gender</th>\n",
              "      <th>...</th>\n",
              "      <th>NEWEdImpt</th>\n",
              "      <th>NEWLearn</th>\n",
              "      <th>NEWOvertime</th>\n",
              "      <th>NEWStuck</th>\n",
              "      <th>OpSys</th>\n",
              "      <th>PlatformDesireNextYear</th>\n",
              "      <th>PlatformWorkedWith</th>\n",
              "      <th>WorkWeekHrs</th>\n",
              "      <th>YearsCode</th>\n",
              "      <th>YearsCodePro</th>\n",
              "    </tr>\n",
              "    <tr>\n",
              "      <th>Respondent</th>\n",
              "      <th></th>\n",
              "      <th></th>\n",
              "      <th></th>\n",
              "      <th></th>\n",
              "      <th></th>\n",
              "      <th></th>\n",
              "      <th></th>\n",
              "      <th></th>\n",
              "      <th></th>\n",
              "      <th></th>\n",
              "      <th></th>\n",
              "      <th></th>\n",
              "      <th></th>\n",
              "      <th></th>\n",
              "      <th></th>\n",
              "      <th></th>\n",
              "      <th></th>\n",
              "      <th></th>\n",
              "      <th></th>\n",
              "      <th></th>\n",
              "      <th></th>\n",
              "    </tr>\n",
              "  </thead>\n",
              "  <tbody>\n",
              "    <tr>\n",
              "      <th>1</th>\n",
              "      <td>I am a developer by profession</td>\n",
              "      <td>Yes</td>\n",
              "      <td>NaN</td>\n",
              "      <td>NaN</td>\n",
              "      <td>Germany</td>\n",
              "      <td>Developer, desktop or enterprise applications;...</td>\n",
              "      <td>Master’s degree (M.A., M.S., M.Eng., MBA, etc.)</td>\n",
              "      <td>Independent contractor, freelancer, or self-em...</td>\n",
              "      <td>White or of European descent</td>\n",
              "      <td>Man</td>\n",
              "      <td>...</td>\n",
              "      <td>Fairly important</td>\n",
              "      <td>Once a year</td>\n",
              "      <td>Often: 1-2 days per week or more</td>\n",
              "      <td>Visit Stack Overflow;Go for a walk or other ph...</td>\n",
              "      <td>Windows</td>\n",
              "      <td>Android;iOS;Kubernetes;Microsoft Azure;Windows</td>\n",
              "      <td>Windows</td>\n",
              "      <td>50.0</td>\n",
              "      <td>36</td>\n",
              "      <td>27</td>\n",
              "    </tr>\n",
              "    <tr>\n",
              "      <th>2</th>\n",
              "      <td>I am a developer by profession</td>\n",
              "      <td>No</td>\n",
              "      <td>NaN</td>\n",
              "      <td>NaN</td>\n",
              "      <td>United Kingdom</td>\n",
              "      <td>Developer, full-stack;Developer, mobile</td>\n",
              "      <td>Bachelor’s degree (B.A., B.S., B.Eng., etc.)</td>\n",
              "      <td>Employed full-time</td>\n",
              "      <td>NaN</td>\n",
              "      <td>NaN</td>\n",
              "      <td>...</td>\n",
              "      <td>Fairly important</td>\n",
              "      <td>Once a year</td>\n",
              "      <td>NaN</td>\n",
              "      <td>Visit Stack Overflow;Go for a walk or other ph...</td>\n",
              "      <td>MacOS</td>\n",
              "      <td>iOS;Kubernetes;Linux;MacOS</td>\n",
              "      <td>iOS</td>\n",
              "      <td>NaN</td>\n",
              "      <td>7</td>\n",
              "      <td>4</td>\n",
              "    </tr>\n",
              "    <tr>\n",
              "      <th>3</th>\n",
              "      <td>I code primarily as a hobby</td>\n",
              "      <td>Yes</td>\n",
              "      <td>NaN</td>\n",
              "      <td>NaN</td>\n",
              "      <td>Russian Federation</td>\n",
              "      <td>NaN</td>\n",
              "      <td>NaN</td>\n",
              "      <td>NaN</td>\n",
              "      <td>NaN</td>\n",
              "      <td>NaN</td>\n",
              "      <td>...</td>\n",
              "      <td>NaN</td>\n",
              "      <td>Once a decade</td>\n",
              "      <td>NaN</td>\n",
              "      <td>NaN</td>\n",
              "      <td>Linux-based</td>\n",
              "      <td>NaN</td>\n",
              "      <td>NaN</td>\n",
              "      <td>NaN</td>\n",
              "      <td>4</td>\n",
              "      <td>NaN</td>\n",
              "    </tr>\n",
              "    <tr>\n",
              "      <th>4</th>\n",
              "      <td>I am a developer by profession</td>\n",
              "      <td>Yes</td>\n",
              "      <td>25.0</td>\n",
              "      <td>NaN</td>\n",
              "      <td>Albania</td>\n",
              "      <td>NaN</td>\n",
              "      <td>Master’s degree (M.A., M.S., M.Eng., MBA, etc.)</td>\n",
              "      <td>NaN</td>\n",
              "      <td>White or of European descent</td>\n",
              "      <td>Man</td>\n",
              "      <td>...</td>\n",
              "      <td>Not at all important/not necessary</td>\n",
              "      <td>Once a year</td>\n",
              "      <td>Occasionally: 1-2 days per quarter but less th...</td>\n",
              "      <td>NaN</td>\n",
              "      <td>Linux-based</td>\n",
              "      <td>NaN</td>\n",
              "      <td>NaN</td>\n",
              "      <td>40.0</td>\n",
              "      <td>7</td>\n",
              "      <td>4</td>\n",
              "    </tr>\n",
              "    <tr>\n",
              "      <th>5</th>\n",
              "      <td>I used to be a developer by profession, but no...</td>\n",
              "      <td>Yes</td>\n",
              "      <td>31.0</td>\n",
              "      <td>NaN</td>\n",
              "      <td>United States</td>\n",
              "      <td>NaN</td>\n",
              "      <td>Bachelor’s degree (B.A., B.S., B.Eng., etc.)</td>\n",
              "      <td>Employed full-time</td>\n",
              "      <td>White or of European descent</td>\n",
              "      <td>Man</td>\n",
              "      <td>...</td>\n",
              "      <td>Very important</td>\n",
              "      <td>Once a year</td>\n",
              "      <td>NaN</td>\n",
              "      <td>Call a coworker or friend;Visit Stack Overflow...</td>\n",
              "      <td>Windows</td>\n",
              "      <td>Docker;Google Cloud Platform;Heroku;Linux;Windows</td>\n",
              "      <td>AWS;Docker;Linux;MacOS;Windows</td>\n",
              "      <td>NaN</td>\n",
              "      <td>15</td>\n",
              "      <td>8</td>\n",
              "    </tr>\n",
              "  </tbody>\n",
              "</table>\n",
              "<p>5 rows × 28 columns</p>\n",
              "</div>"
            ],
            "text/plain": [
              "                                                   MainBranch Hobbyist   Age  \\\n",
              "Respondent                                                                     \n",
              "1                              I am a developer by profession      Yes   NaN   \n",
              "2                              I am a developer by profession       No   NaN   \n",
              "3                                 I code primarily as a hobby      Yes   NaN   \n",
              "4                              I am a developer by profession      Yes  25.0   \n",
              "5           I used to be a developer by profession, but no...      Yes  31.0   \n",
              "\n",
              "            ConvertedComp             Country  \\\n",
              "Respondent                                      \n",
              "1                     NaN             Germany   \n",
              "2                     NaN      United Kingdom   \n",
              "3                     NaN  Russian Federation   \n",
              "4                     NaN             Albania   \n",
              "5                     NaN       United States   \n",
              "\n",
              "                                                      DevType  \\\n",
              "Respondent                                                      \n",
              "1           Developer, desktop or enterprise applications;...   \n",
              "2                     Developer, full-stack;Developer, mobile   \n",
              "3                                                         NaN   \n",
              "4                                                         NaN   \n",
              "5                                                         NaN   \n",
              "\n",
              "                                                    EdLevel  \\\n",
              "Respondent                                                    \n",
              "1           Master’s degree (M.A., M.S., M.Eng., MBA, etc.)   \n",
              "2              Bachelor’s degree (B.A., B.S., B.Eng., etc.)   \n",
              "3                                                       NaN   \n",
              "4           Master’s degree (M.A., M.S., M.Eng., MBA, etc.)   \n",
              "5              Bachelor’s degree (B.A., B.S., B.Eng., etc.)   \n",
              "\n",
              "                                                   Employment  \\\n",
              "Respondent                                                      \n",
              "1           Independent contractor, freelancer, or self-em...   \n",
              "2                                          Employed full-time   \n",
              "3                                                         NaN   \n",
              "4                                                         NaN   \n",
              "5                                          Employed full-time   \n",
              "\n",
              "                               Ethnicity Gender  ...  \\\n",
              "Respondent                                       ...   \n",
              "1           White or of European descent    Man  ...   \n",
              "2                                    NaN    NaN  ...   \n",
              "3                                    NaN    NaN  ...   \n",
              "4           White or of European descent    Man  ...   \n",
              "5           White or of European descent    Man  ...   \n",
              "\n",
              "                                     NEWEdImpt       NEWLearn  \\\n",
              "Respondent                                                      \n",
              "1                             Fairly important    Once a year   \n",
              "2                             Fairly important    Once a year   \n",
              "3                                          NaN  Once a decade   \n",
              "4           Not at all important/not necessary    Once a year   \n",
              "5                               Very important    Once a year   \n",
              "\n",
              "                                                  NEWOvertime  \\\n",
              "Respondent                                                      \n",
              "1                            Often: 1-2 days per week or more   \n",
              "2                                                         NaN   \n",
              "3                                                         NaN   \n",
              "4           Occasionally: 1-2 days per quarter but less th...   \n",
              "5                                                         NaN   \n",
              "\n",
              "                                                     NEWStuck        OpSys  \\\n",
              "Respondent                                                                   \n",
              "1           Visit Stack Overflow;Go for a walk or other ph...      Windows   \n",
              "2           Visit Stack Overflow;Go for a walk or other ph...        MacOS   \n",
              "3                                                         NaN  Linux-based   \n",
              "4                                                         NaN  Linux-based   \n",
              "5           Call a coworker or friend;Visit Stack Overflow...      Windows   \n",
              "\n",
              "                                       PlatformDesireNextYear  \\\n",
              "Respondent                                                      \n",
              "1              Android;iOS;Kubernetes;Microsoft Azure;Windows   \n",
              "2                                  iOS;Kubernetes;Linux;MacOS   \n",
              "3                                                         NaN   \n",
              "4                                                         NaN   \n",
              "5           Docker;Google Cloud Platform;Heroku;Linux;Windows   \n",
              "\n",
              "                        PlatformWorkedWith WorkWeekHrs YearsCode YearsCodePro  \n",
              "Respondent                                                                     \n",
              "1                                  Windows        50.0        36           27  \n",
              "2                                      iOS         NaN         7            4  \n",
              "3                                      NaN         NaN         4          NaN  \n",
              "4                                      NaN        40.0         7            4  \n",
              "5           AWS;Docker;Linux;MacOS;Windows         NaN        15            8  \n",
              "\n",
              "[5 rows x 28 columns]"
            ]
          },
          "execution_count": 3,
          "metadata": {},
          "output_type": "execute_result"
        }
      ],
      "source": [
        "# TEST\n",
        "survey_df.head()"
      ]
    },
    {
      "cell_type": "markdown",
      "metadata": {
        "id": "ydC9c7vuCcxo"
      },
      "source": [
        "### How many rows and columns does the data have?(0.25đ)"
      ]
    },
    {
      "cell_type": "markdown",
      "metadata": {
        "id": "ldtOw1AtCcxp"
      },
      "source": [
        "Next, you get the number of rows and columns of the DataFrame `survey_df` and store it in `num_rows` and `num_cols` variables."
      ]
    },
    {
      "cell_type": "code",
      "execution_count": 4,
      "metadata": {
        "deletable": false,
        "id": "QurkI7f6Ccxp",
        "nbgrader": {
          "cell_type": "code",
          "checksum": "607dbbe4997f90db7ca9d3e0c596d38a",
          "grade": false,
          "grade_id": "cell-8338f3610f6c5002",
          "locked": false,
          "schema_version": 3,
          "solution": true,
          "task": false
        }
      },
      "outputs": [],
      "source": [
        "# YOUR CODE HERE\n",
        "num_rows = len(survey_df)\n",
        "num_cols = len(survey_df.columns)\n",
        "#raise NotImplementedError()"
      ]
    },
    {
      "cell_type": "code",
      "execution_count": 5,
      "metadata": {
        "deletable": false,
        "editable": false,
        "id": "aQ_uoOEtCcxp",
        "nbgrader": {
          "cell_type": "code",
          "checksum": "dccad1762b5cd1a5aeb4dd971539f41d",
          "grade": true,
          "grade_id": "cell-00f00d1bba235517",
          "locked": true,
          "points": 0.25,
          "schema_version": 3,
          "solution": false,
          "task": false
        }
      },
      "outputs": [],
      "source": [
        "# TEST\n",
        "assert num_rows == 64461\n",
        "assert num_cols == 28"
      ]
    },
    {
      "cell_type": "markdown",
      "metadata": {
        "id": "QCHYjzyzCcxp"
      },
      "source": [
        "### What does each sample mean? Does it matter that the samples have different meanings?"
      ]
    },
    {
      "cell_type": "markdown",
      "metadata": {
        "id": "uOE69FdkCcxq"
      },
      "source": [
        "According to the file \"README_2020.txt\" as well as a preliminary observation of the data, each sample in the DataFrame `survey_df` indicates the results of a person's survey. It doesn't seem to matter the samples have different meanings."
      ]
    },
    {
      "cell_type": "markdown",
      "metadata": {
        "id": "U_Y3IlAKCcxq"
      },
      "source": [
        "### Does the data have duplicate sample?(0.25đ)"
      ]
    },
    {
      "cell_type": "markdown",
      "metadata": {
        "id": "6UDY1uanCcxq"
      },
      "source": [
        "Next, you calculate the number of samples where the index (surveyer's id) is duplicated and store it in the variable `num_duplicated_rows`. In a group of samples with the same index, the first sample is not counted as duplicated."
      ]
    },
    {
      "cell_type": "code",
      "execution_count": 6,
      "metadata": {
        "deletable": false,
        "id": "xTGXT2efCcxq",
        "nbgrader": {
          "cell_type": "code",
          "checksum": "8562ed8052a1cfb4a1c033be002aa083",
          "grade": false,
          "grade_id": "cell-aadbfe12be205faa",
          "locked": false,
          "schema_version": 3,
          "solution": true,
          "task": false
        }
      },
      "outputs": [],
      "source": [
        "# YOUR CODE HERE\n",
        "num_duplicated_rows = survey_df.index.duplicated().sum()\n",
        "#raise NotImplementedError()"
      ]
    },
    {
      "cell_type": "code",
      "execution_count": 7,
      "metadata": {
        "deletable": false,
        "editable": false,
        "id": "_QEh7N6mCcxq",
        "nbgrader": {
          "cell_type": "code",
          "checksum": "9cf4a1f5b657704c7ff30130242e1646",
          "grade": true,
          "grade_id": "cell-7c456d5495d4904d",
          "locked": true,
          "points": 0.25,
          "schema_version": 3,
          "solution": false,
          "task": false
        }
      },
      "outputs": [],
      "source": [
        "# TEST\n",
        "assert num_duplicated_rows == 0"
      ]
    },
    {
      "cell_type": "markdown",
      "metadata": {
        "id": "MVakojgMCcxr"
      },
      "source": [
        "### What does each column mean? (0.25đ)"
      ]
    },
    {
      "cell_type": "markdown",
      "metadata": {
        "id": "MZHO7Hcca0M1"
      },
      "source": [
        "To see what each column means:\n",
        "+ First you need to read the file \"survey_results_schema-short.csv\" into the DataFrame `col_meaning_df`; you also need for column \"Column\" as index column.\n",
        "+ After that, you just need to display the DataFrame `col_meaning_df` to see. However, you will see in the \"QuestionText\" column: the description strings are truncated because they are too long. Therefore, before displaying the DataFrame `col_meaning_df`, you also need to adjust it so that the description strings are not cut (suggestion: you will use the `pd.set_option` command)."
      ]
    },
    {
      "cell_type": "code",
      "execution_count": 8,
      "metadata": {
        "deletable": false,
        "id": "yK9ZLICyCcxr",
        "nbgrader": {
          "cell_type": "code",
          "checksum": "bc5afa2bdb3831c9bfdc88a3d0aeff5b",
          "grade": true,
          "grade_id": "cell-5efb0517df207535",
          "locked": false,
          "points": 0.25,
          "schema_version": 3,
          "solution": true,
          "task": false
        }
      },
      "outputs": [],
      "source": [
        "# YOUR CODE HERE\n",
        "col_meaning_df = pd.read_csv('survey_results_schema-short.csv').set_index('Column')\n",
        "pd.set_option('display.max_colwidth', None)\n",
        "#raise NotImplementedError()"
      ]
    },
    {
      "cell_type": "code",
      "execution_count": 9,
      "metadata": {
        "id": "NC-ct9zjCcxr"
      },
      "outputs": [
        {
          "data": {
            "text/html": [
              "<div>\n",
              "<style scoped>\n",
              "    .dataframe tbody tr th:only-of-type {\n",
              "        vertical-align: middle;\n",
              "    }\n",
              "\n",
              "    .dataframe tbody tr th {\n",
              "        vertical-align: top;\n",
              "    }\n",
              "\n",
              "    .dataframe thead th {\n",
              "        text-align: right;\n",
              "    }\n",
              "</style>\n",
              "<table border=\"1\" class=\"dataframe\">\n",
              "  <thead>\n",
              "    <tr style=\"text-align: right;\">\n",
              "      <th></th>\n",
              "      <th>QuestionText</th>\n",
              "    </tr>\n",
              "    <tr>\n",
              "      <th>Column</th>\n",
              "      <th></th>\n",
              "    </tr>\n",
              "  </thead>\n",
              "  <tbody>\n",
              "    <tr>\n",
              "      <th>Respondent</th>\n",
              "      <td>Randomized respondent ID number (not in order of survey response time)</td>\n",
              "    </tr>\n",
              "    <tr>\n",
              "      <th>MainBranch</th>\n",
              "      <td>Which of the following options best describes you today? Here, by \"developer\" we mean \"someone who writes code.\"</td>\n",
              "    </tr>\n",
              "    <tr>\n",
              "      <th>Hobbyist</th>\n",
              "      <td>Do you code as a hobby?</td>\n",
              "    </tr>\n",
              "    <tr>\n",
              "      <th>Age</th>\n",
              "      <td>What is your age (in years)? If you prefer not to answer, you may leave this question blank.</td>\n",
              "    </tr>\n",
              "    <tr>\n",
              "      <th>ConvertedComp</th>\n",
              "      <td>Salary converted to annual USD salaries using the exchange rate on 2020-02-19, assuming 12 working months and 50 working weeks.</td>\n",
              "    </tr>\n",
              "    <tr>\n",
              "      <th>Country</th>\n",
              "      <td>Where do you live?</td>\n",
              "    </tr>\n",
              "    <tr>\n",
              "      <th>DevType</th>\n",
              "      <td>Which of the following describe you? Please select all that apply.</td>\n",
              "    </tr>\n",
              "    <tr>\n",
              "      <th>EdLevel</th>\n",
              "      <td>Which of the following best describes the highest level of formal education that you’ve completed?</td>\n",
              "    </tr>\n",
              "    <tr>\n",
              "      <th>Employment</th>\n",
              "      <td>Which of the following best describes your current employment status?</td>\n",
              "    </tr>\n",
              "    <tr>\n",
              "      <th>Ethnicity</th>\n",
              "      <td>Which of the following describe you, if any? Please check all that apply. If you prefer not to answer, you may leave this question blank.</td>\n",
              "    </tr>\n",
              "    <tr>\n",
              "      <th>Gender</th>\n",
              "      <td>Which of the following describe you, if any? Please check all that apply. If you prefer not to answer, you may leave this question blank.</td>\n",
              "    </tr>\n",
              "    <tr>\n",
              "      <th>JobFactors</th>\n",
              "      <td>Imagine that you are deciding between two job offers with the same compensation, benefits, and location. Of the following factors, which 3 are MOST important to you?</td>\n",
              "    </tr>\n",
              "    <tr>\n",
              "      <th>JobSat</th>\n",
              "      <td>How satisfied are you with your current job? (If you work multiple jobs, answer for the one you spend the most hours on.)</td>\n",
              "    </tr>\n",
              "    <tr>\n",
              "      <th>LanguageDesireNextYear</th>\n",
              "      <td>Which programming, scripting, and markup languages have you done extensive development work in over the past year, and which do you want to work in over the next year? (If you both worked with the language and want to continue to do so, please check both boxes in that row.)</td>\n",
              "    </tr>\n",
              "    <tr>\n",
              "      <th>LanguageWorkedWith</th>\n",
              "      <td>Which programming, scripting, and markup languages have you done extensive development work in over the past year, and which do you want to work in over the next year? (If you both worked with the language and want to continue to do so, please check both boxes in that row.)</td>\n",
              "    </tr>\n",
              "    <tr>\n",
              "      <th>MiscTechDesireNextYear</th>\n",
              "      <td>Which other frameworks, libraries, and tools have you done extensive development work in over the past year, and which do you want to work in over the next year? (If you both worked with the framework and want to continue to do so, please check both boxes in that row.)</td>\n",
              "    </tr>\n",
              "    <tr>\n",
              "      <th>MiscTechWorkedWith</th>\n",
              "      <td>Which other frameworks, libraries, and tools have you done extensive development work in over the past year, and which do you want to work in over the next year? (If you both worked with the framework and want to continue to do so, please check both boxes in that row.)</td>\n",
              "    </tr>\n",
              "    <tr>\n",
              "      <th>NEWCollabToolsDesireNextYear</th>\n",
              "      <td>Which collaboration tools have you done extensive development work in over the past year, and which do you want to work in over the next year? (If you worked with the tool and want to continue to do so, please check both boxes in that row.)</td>\n",
              "    </tr>\n",
              "    <tr>\n",
              "      <th>NEWCollabToolsWorkedWith</th>\n",
              "      <td>Which collaboration tools have you done extensive development work in over the past year, and which do you want to work in over the next year? (If you worked with the tool and want to continue to do so, please check both boxes in that row.)</td>\n",
              "    </tr>\n",
              "    <tr>\n",
              "      <th>NEWEdImpt</th>\n",
              "      <td>How important is a formal education, such as a university degree in computer science, to your career?</td>\n",
              "    </tr>\n",
              "    <tr>\n",
              "      <th>NEWLearn</th>\n",
              "      <td>How frequently do you learn a new language or framework?</td>\n",
              "    </tr>\n",
              "    <tr>\n",
              "      <th>NEWOvertime</th>\n",
              "      <td>How often do you work overtime or beyond the formal time expectation of your job?</td>\n",
              "    </tr>\n",
              "    <tr>\n",
              "      <th>NEWStuck</th>\n",
              "      <td>What do you do when you get stuck on a problem? Select all that apply.</td>\n",
              "    </tr>\n",
              "    <tr>\n",
              "      <th>OpSys</th>\n",
              "      <td>What is the primary operating system in which you work?</td>\n",
              "    </tr>\n",
              "    <tr>\n",
              "      <th>PlatformDesireNextYear</th>\n",
              "      <td>Which platforms have you done extensive development work in over the past year, and which do you want to work in over the next year? (If you both worked with the platform and want to continue to do so, please check both boxes in that row.)</td>\n",
              "    </tr>\n",
              "    <tr>\n",
              "      <th>PlatformWorkedWith</th>\n",
              "      <td>Which platforms have you done extensive development work in over the past year, and which do you want to work in over the next year? (If you both worked with the platform and want to continue to do so, please check both boxes in that row.)</td>\n",
              "    </tr>\n",
              "    <tr>\n",
              "      <th>WorkWeekHrs</th>\n",
              "      <td>On average, how many hours per week do you work? Please enter a whole number in the box.</td>\n",
              "    </tr>\n",
              "    <tr>\n",
              "      <th>YearsCode</th>\n",
              "      <td>Including any education, how many years have you been coding in total?</td>\n",
              "    </tr>\n",
              "    <tr>\n",
              "      <th>YearsCodePro</th>\n",
              "      <td>NOT including education, how many years have you coded professionally (as a part of your work)?</td>\n",
              "    </tr>\n",
              "  </tbody>\n",
              "</table>\n",
              "</div>"
            ],
            "text/plain": [
              "                                                                                                                                                                                                                                                                                                    QuestionText\n",
              "Column                                                                                                                                                                                                                                                                                                          \n",
              "Respondent                                                                                                                                                                                                                                Randomized respondent ID number (not in order of survey response time)\n",
              "MainBranch                                                                                                                                                                                      Which of the following options best describes you today? Here, by \"developer\" we mean \"someone who writes code.\"\n",
              "Hobbyist                                                                                                                                                                                                                                                                                 Do you code as a hobby?\n",
              "Age                                                                                                                                                                                                                 What is your age (in years)? If you prefer not to answer, you may leave this question blank.\n",
              "ConvertedComp                                                                                                                                                                    Salary converted to annual USD salaries using the exchange rate on 2020-02-19, assuming 12 working months and 50 working weeks.\n",
              "Country                                                                                                                                                                                                                                                                                       Where do you live?\n",
              "DevType                                                                                                                                                                                                                                       Which of the following describe you? Please select all that apply.\n",
              "EdLevel                                                                                                                                                                                                       Which of the following best describes the highest level of formal education that you’ve completed?\n",
              "Employment                                                                                                                                                                                                                                 Which of the following best describes your current employment status?\n",
              "Ethnicity                                                                                                                                                              Which of the following describe you, if any? Please check all that apply. If you prefer not to answer, you may leave this question blank.\n",
              "Gender                                                                                                                                                                 Which of the following describe you, if any? Please check all that apply. If you prefer not to answer, you may leave this question blank.\n",
              "JobFactors                                                                                                                                 Imagine that you are deciding between two job offers with the same compensation, benefits, and location. Of the following factors, which 3 are MOST important to you?\n",
              "JobSat                                                                                                                                                                                 How satisfied are you with your current job? (If you work multiple jobs, answer for the one you spend the most hours on.)\n",
              "LanguageDesireNextYear        Which programming, scripting, and markup languages have you done extensive development work in over the past year, and which do you want to work in over the next year? (If you both worked with the language and want to continue to do so, please check both boxes in that row.)\n",
              "LanguageWorkedWith            Which programming, scripting, and markup languages have you done extensive development work in over the past year, and which do you want to work in over the next year? (If you both worked with the language and want to continue to do so, please check both boxes in that row.)\n",
              "MiscTechDesireNextYear             Which other frameworks, libraries, and tools have you done extensive development work in over the past year, and which do you want to work in over the next year? (If you both worked with the framework and want to continue to do so, please check both boxes in that row.)\n",
              "MiscTechWorkedWith                 Which other frameworks, libraries, and tools have you done extensive development work in over the past year, and which do you want to work in over the next year? (If you both worked with the framework and want to continue to do so, please check both boxes in that row.)\n",
              "NEWCollabToolsDesireNextYear                                    Which collaboration tools have you done extensive development work in over the past year, and which do you want to work in over the next year? (If you worked with the tool and want to continue to do so, please check both boxes in that row.)\n",
              "NEWCollabToolsWorkedWith                                        Which collaboration tools have you done extensive development work in over the past year, and which do you want to work in over the next year? (If you worked with the tool and want to continue to do so, please check both boxes in that row.)\n",
              "NEWEdImpt                                                                                                                                                                                                  How important is a formal education, such as a university degree in computer science, to your career?\n",
              "NEWLearn                                                                                                                                                                                                                                                How frequently do you learn a new language or framework?\n",
              "NEWOvertime                                                                                                                                                                                                                    How often do you work overtime or beyond the formal time expectation of your job?\n",
              "NEWStuck                                                                                                                                                                                                                                  What do you do when you get stuck on a problem? Select all that apply.\n",
              "OpSys                                                                                                                                                                                                                                                    What is the primary operating system in which you work?\n",
              "PlatformDesireNextYear                                           Which platforms have you done extensive development work in over the past year, and which do you want to work in over the next year? (If you both worked with the platform and want to continue to do so, please check both boxes in that row.)\n",
              "PlatformWorkedWith                                               Which platforms have you done extensive development work in over the past year, and which do you want to work in over the next year? (If you both worked with the platform and want to continue to do so, please check both boxes in that row.)\n",
              "WorkWeekHrs                                                                                                                                                                                                             On average, how many hours per week do you work? Please enter a whole number in the box.\n",
              "YearsCode                                                                                                                                                                                                                                 Including any education, how many years have you been coding in total?\n",
              "YearsCodePro                                                                                                                                                                                                     NOT including education, how many years have you coded professionally (as a part of your work)?"
            ]
          },
          "execution_count": 9,
          "metadata": {},
          "output_type": "execute_result"
        }
      ],
      "source": [
        "# TEST\n",
        "col_meaning_df"
      ]
    },
    {
      "cell_type": "markdown",
      "metadata": {
        "id": "ggSMmpXjCcxr"
      },
      "source": [
        "### What data type does each column currently have? Is there a column with a data type that is not suitable for further processing? (0.25đ)"
      ]
    },
    {
      "cell_type": "markdown",
      "metadata": {
        "id": "FuMIiyK_Ccxs"
      },
      "source": [
        "Next, you get the data type (dtype) of each column in the DataFrame `survey_df` and save the result in the Series `dtypes` (this series has the index as the column name)."
      ]
    },
    {
      "cell_type": "code",
      "execution_count": 10,
      "metadata": {
        "deletable": false,
        "id": "756sOdiKCcxs",
        "nbgrader": {
          "cell_type": "code",
          "checksum": "2ecb5b8df41e1b29c852e2e5dd13b893",
          "grade": false,
          "grade_id": "cell-206c19691b1a6c05",
          "locked": false,
          "schema_version": 3,
          "solution": true,
          "task": false
        }
      },
      "outputs": [
        {
          "data": {
            "text/plain": [
              "MainBranch                       object\n",
              "Hobbyist                         object\n",
              "Age                             float64\n",
              "ConvertedComp                   float64\n",
              "Country                          object\n",
              "DevType                          object\n",
              "EdLevel                          object\n",
              "Employment                       object\n",
              "Ethnicity                        object\n",
              "Gender                           object\n",
              "JobFactors                       object\n",
              "JobSat                           object\n",
              "LanguageDesireNextYear           object\n",
              "LanguageWorkedWith               object\n",
              "MiscTechDesireNextYear           object\n",
              "MiscTechWorkedWith               object\n",
              "NEWCollabToolsDesireNextYear     object\n",
              "NEWCollabToolsWorkedWith         object\n",
              "NEWEdImpt                        object\n",
              "NEWLearn                         object\n",
              "NEWOvertime                      object\n",
              "NEWStuck                         object\n",
              "OpSys                            object\n",
              "PlatformDesireNextYear           object\n",
              "PlatformWorkedWith               object\n",
              "WorkWeekHrs                     float64\n",
              "YearsCode                        object\n",
              "YearsCodePro                     object\n",
              "dtype: object"
            ]
          },
          "execution_count": 10,
          "metadata": {},
          "output_type": "execute_result"
        }
      ],
      "source": [
        "# YOUR CODE HERE\n",
        "dtypes = pd.Series(data=survey_df.dtypes, index=survey_df.columns)\n",
        "#raise NotImplementedError()\n",
        "dtypes"
      ]
    },
    {
      "cell_type": "code",
      "execution_count": 11,
      "metadata": {
        "deletable": false,
        "editable": false,
        "id": "5U4ez-EiCcxs",
        "nbgrader": {
          "cell_type": "code",
          "checksum": "ac6951bf9ae5d429dd8c2fbeb9d17832",
          "grade": true,
          "grade_id": "cell-3ebcf8f07733605b",
          "locked": true,
          "points": 0.25,
          "schema_version": 3,
          "solution": false,
          "task": false
        }
      },
      "outputs": [],
      "source": [
        "# TEST\n",
        "float_cols = set(dtypes[(dtypes==np.float32) | (dtypes==np.float64)].index)\n",
        "assert float_cols == {'Age', 'ConvertedComp', 'WorkWeekHrs'}\n",
        "object_cols = set(dtypes[dtypes == object].index)\n",
        "assert len(object_cols) == 25"
      ]
    },
    {
      "cell_type": "markdown",
      "metadata": {
        "id": "o2Fm9F3uCcxs"
      },
      "source": [
        "As you can see, the \"YearsCode\" and \"YearsCodePro\" columns should have a numeric data type, but now have an object data type. Let's try to see more about these 2-column values."
      ]
    },
    {
      "cell_type": "code",
      "execution_count": 12,
      "metadata": {
        "id": "32iupWceCcxs"
      },
      "outputs": [
        {
          "data": {
            "text/plain": [
              "array(['36', '7', '4', '15', '6', '17', '8', '10', '35', '5', '37', '19',\n",
              "       '9', '22', '30', '23', '20', '2', 'Less than 1 year', '3', '13',\n",
              "       '25', '16', '43', '11', '38', '33', nan, '24', '21', '12', '40',\n",
              "       '27', '50', '46', '14', '18', '28', '32', '44', '26', '42', '31',\n",
              "       '34', '29', '1', '39', '41', '45', 'More than 50 years', '47',\n",
              "       '49', '48'], dtype=object)"
            ]
          },
          "execution_count": 12,
          "metadata": {},
          "output_type": "execute_result"
        }
      ],
      "source": [
        "survey_df['YearsCode'].unique()"
      ]
    },
    {
      "cell_type": "code",
      "execution_count": 13,
      "metadata": {
        "id": "BPMX2PP3Ccxs"
      },
      "outputs": [
        {
          "data": {
            "text/plain": [
              "array(['27', '4', nan, '8', '13', '2', '7', '20', '1', '23', '3', '12',\n",
              "       '17', '18', '10', '14', '29', '6', '28', '9', '15', '11', '16',\n",
              "       '25', 'Less than 1 year', '5', '21', '19', '35', '24', '32', '22',\n",
              "       '30', '38', '26', '40', '33', '31', 'More than 50 years', '34',\n",
              "       '36', '39', '37', '41', '45', '47', '42', '46', '50', '43', '44',\n",
              "       '48', '49'], dtype=object)"
            ]
          },
          "execution_count": 13,
          "metadata": {},
          "output_type": "execute_result"
        }
      ],
      "source": [
        "survey_df['YearsCodePro'].unique()"
      ]
    },
    {
      "cell_type": "markdown",
      "metadata": {
        "id": "-67jNilhCcxt"
      },
      "source": [
        "We should convert these 2 columns into numeric form so that we can continue to explore (calculate min, median, max, ...)."
      ]
    },
    {
      "cell_type": "markdown",
      "metadata": {
        "id": "PVlRWH0jCcxt"
      },
      "source": [
        "---"
      ]
    },
    {
      "cell_type": "markdown",
      "metadata": {
        "id": "o5sz0L20Ccxt"
      },
      "source": [
        "## Data preprocessing (0.5đ)"
      ]
    },
    {
      "cell_type": "markdown",
      "metadata": {
        "id": "XNGVSyRuCcxt"
      },
      "source": [
        "You will perform preprocessing to convert the 2 columns \"YearsCode\" and \"YearsCodePro\" to numeric (float). In which: \"Less than 1 year\" $\\to$ 0, \"More than 50 years\" $\\to$ 51. After transferring, `survey_df.dtypes` will change."
      ]
    },
    {
      "cell_type": "code",
      "execution_count": 14,
      "metadata": {
        "deletable": false,
        "id": "djtC-F1MCcxt",
        "nbgrader": {
          "cell_type": "code",
          "checksum": "b12c49ae100fb58e51939537b8f7af48",
          "grade": false,
          "grade_id": "cell-cfc7d3af0fb5edec",
          "locked": false,
          "schema_version": 3,
          "solution": true,
          "task": false
        }
      },
      "outputs": [
        {
          "data": {
            "text/plain": [
              "MainBranch                       object\n",
              "Hobbyist                         object\n",
              "Age                             float64\n",
              "ConvertedComp                   float64\n",
              "Country                          object\n",
              "DevType                          object\n",
              "EdLevel                          object\n",
              "Employment                       object\n",
              "Ethnicity                        object\n",
              "Gender                           object\n",
              "JobFactors                       object\n",
              "JobSat                           object\n",
              "LanguageDesireNextYear           object\n",
              "LanguageWorkedWith               object\n",
              "MiscTechDesireNextYear           object\n",
              "MiscTechWorkedWith               object\n",
              "NEWCollabToolsDesireNextYear     object\n",
              "NEWCollabToolsWorkedWith         object\n",
              "NEWEdImpt                        object\n",
              "NEWLearn                         object\n",
              "NEWOvertime                      object\n",
              "NEWStuck                         object\n",
              "OpSys                            object\n",
              "PlatformDesireNextYear           object\n",
              "PlatformWorkedWith               object\n",
              "WorkWeekHrs                     float64\n",
              "YearsCode                       float64\n",
              "YearsCodePro                    float64\n",
              "dtype: object"
            ]
          },
          "execution_count": 14,
          "metadata": {},
          "output_type": "execute_result"
        }
      ],
      "source": [
        "# YOUR CODE HERE\n",
        "survey_df['YearsCode'] = survey_df['YearsCode'].replace(['Less than 1 year', 'More than 50 years'], ['0', '51'])\n",
        "survey_df['YearsCode'] = pd.to_numeric(survey_df['YearsCode'])\n",
        "\n",
        "survey_df['YearsCodePro'] = survey_df['YearsCodePro'].replace(['Less than 1 year', 'More than 50 years'], ['0', '51'])\n",
        "survey_df['YearsCodePro'] = pd.to_numeric(survey_df['YearsCodePro'])\n",
        "#raise NotImplementedError()\n",
        "survey_df.dtypes"
      ]
    },
    {
      "cell_type": "code",
      "execution_count": 15,
      "metadata": {
        "deletable": false,
        "editable": false,
        "id": "Z9u9wvDVCcxt",
        "nbgrader": {
          "cell_type": "code",
          "checksum": "8a6ac7a184baa06b11ff89d9402fed23",
          "grade": true,
          "grade_id": "cell-4ee41f84604837a1",
          "locked": true,
          "points": 0.5,
          "schema_version": 3,
          "solution": false,
          "task": false
        }
      },
      "outputs": [],
      "source": [
        "# TEST\n",
        "assert survey_df['YearsCode'].dtype in [np.float32, np.float64]\n",
        "assert survey_df['YearsCodePro'].dtype in [np.float32, np.float64]"
      ]
    },
    {
      "cell_type": "markdown",
      "metadata": {
        "id": "msUK66OaCcxt"
      },
      "source": [
        "---"
      ]
    },
    {
      "cell_type": "markdown",
      "metadata": {
        "id": "fnSPvFXOCcxu"
      },
      "source": [
        "## Back to data exploratory step"
      ]
    },
    {
      "cell_type": "markdown",
      "metadata": {
        "id": "tUB3BUU3Ccxu"
      },
      "source": [
        "### For each column with numeric data type, how are the values distributed? (1d)"
      ]
    },
    {
      "cell_type": "markdown",
      "metadata": {
        "id": "YwwUXKGOCcxu"
      },
      "source": [
        "For columns with numeric data type, you would calculate:\n",
        "- Percentage (from 0 to 100) of missing values\n",
        "- Min value\n",
        "- Lower quartile value (25th percentile)\n",
        "- Median value (50th percentile)\n",
        "- Upper quartile value (75th percentile)\n",
        "- Max value\n",
        "\n",
        "You will save the result into a DataFrame `nume_col_info_df`, where:\n",
        "- The names of the columns are the names of the numeric columns in `survey_df`\n",
        "- The names of the lines are: \"missing_percentage\", \"min\", \"lower_quartile\", \"median\", \"upper_quartile\", \"max\"\n",
        "\n",
        "All your values are rounded to 1 decimal place using the `.round(1)` method."
      ]
    },
    {
      "cell_type": "code",
      "execution_count": 16,
      "metadata": {
        "deletable": false,
        "id": "OOrnRx6JCcxu",
        "nbgrader": {
          "cell_type": "code",
          "checksum": "442122ad4ec86e8b7f1a9c4ecca1f6e7",
          "grade": false,
          "grade_id": "cell-d1503f01712c873a",
          "locked": false,
          "schema_version": 3,
          "solution": true,
          "task": false
        }
      },
      "outputs": [
        {
          "data": {
            "text/html": [
              "<div>\n",
              "<style scoped>\n",
              "    .dataframe tbody tr th:only-of-type {\n",
              "        vertical-align: middle;\n",
              "    }\n",
              "\n",
              "    .dataframe tbody tr th {\n",
              "        vertical-align: top;\n",
              "    }\n",
              "\n",
              "    .dataframe thead th {\n",
              "        text-align: right;\n",
              "    }\n",
              "</style>\n",
              "<table border=\"1\" class=\"dataframe\">\n",
              "  <thead>\n",
              "    <tr style=\"text-align: right;\">\n",
              "      <th></th>\n",
              "      <th>Age</th>\n",
              "      <th>ConvertedComp</th>\n",
              "      <th>WorkWeekHrs</th>\n",
              "      <th>YearsCode</th>\n",
              "      <th>YearsCodePro</th>\n",
              "    </tr>\n",
              "  </thead>\n",
              "  <tbody>\n",
              "    <tr>\n",
              "      <th>missing_percentage</th>\n",
              "      <td>29.5</td>\n",
              "      <td>46.1</td>\n",
              "      <td>36.2</td>\n",
              "      <td>10.5</td>\n",
              "      <td>28.1</td>\n",
              "    </tr>\n",
              "    <tr>\n",
              "      <th>min</th>\n",
              "      <td>1.0</td>\n",
              "      <td>0.0</td>\n",
              "      <td>1.0</td>\n",
              "      <td>0.0</td>\n",
              "      <td>0.0</td>\n",
              "    </tr>\n",
              "    <tr>\n",
              "      <th>lower_quartile</th>\n",
              "      <td>24.0</td>\n",
              "      <td>24648.0</td>\n",
              "      <td>40.0</td>\n",
              "      <td>6.0</td>\n",
              "      <td>3.0</td>\n",
              "    </tr>\n",
              "    <tr>\n",
              "      <th>median</th>\n",
              "      <td>29.0</td>\n",
              "      <td>54049.0</td>\n",
              "      <td>40.0</td>\n",
              "      <td>10.0</td>\n",
              "      <td>6.0</td>\n",
              "    </tr>\n",
              "    <tr>\n",
              "      <th>upper_quartile</th>\n",
              "      <td>35.0</td>\n",
              "      <td>95000.0</td>\n",
              "      <td>44.0</td>\n",
              "      <td>17.0</td>\n",
              "      <td>12.0</td>\n",
              "    </tr>\n",
              "    <tr>\n",
              "      <th>max</th>\n",
              "      <td>279.0</td>\n",
              "      <td>2000000.0</td>\n",
              "      <td>475.0</td>\n",
              "      <td>51.0</td>\n",
              "      <td>51.0</td>\n",
              "    </tr>\n",
              "  </tbody>\n",
              "</table>\n",
              "</div>"
            ],
            "text/plain": [
              "                      Age  ConvertedComp  WorkWeekHrs  YearsCode  YearsCodePro\n",
              "missing_percentage   29.5           46.1         36.2       10.5          28.1\n",
              "min                   1.0            0.0          1.0        0.0           0.0\n",
              "lower_quartile       24.0        24648.0         40.0        6.0           3.0\n",
              "median               29.0        54049.0         40.0       10.0           6.0\n",
              "upper_quartile       35.0        95000.0         44.0       17.0          12.0\n",
              "max                 279.0      2000000.0        475.0       51.0          51.0"
            ]
          },
          "execution_count": 16,
          "metadata": {},
          "output_type": "execute_result"
        }
      ],
      "source": [
        "# YOUR CODE HERE\n",
        "#nume_col = survey_df.loc[:, (survey_df.dtypes == np.float64) | (survey_df.dtypes == np.float32)]\n",
        "numeric_cols = survey_df._get_numeric_data()\n",
        "\n",
        "missing_percentage = (numeric_cols.isnull().sum() * 100 / len(numeric_cols)).round(1)\n",
        "min = numeric_cols.min().round(1)\n",
        "max = numeric_cols.max().round(1)\n",
        "lower_quartile = numeric_cols.quantile(0.25).round(1)\n",
        "median = numeric_cols.quantile(0.5).round(1)\n",
        "upper_quartile = numeric_cols.quantile(0.75).round(1)\n",
        "\n",
        "nume_col_info_df = pd.DataFrame([missing_percentage, min, lower_quartile, median, upper_quartile, max], columns=numeric_cols.columns,\n",
        "                                index=['missing_percentage','min','lower_quartile','median','upper_quartile','max'])\n",
        "#raise NotImplementedError()\n",
        "nume_col_info_df"
      ]
    },
    {
      "cell_type": "code",
      "execution_count": 17,
      "metadata": {
        "deletable": false,
        "editable": false,
        "id": "cNrWENoXCcxu",
        "nbgrader": {
          "cell_type": "code",
          "checksum": "d882c48546d8d70df000f2ac28c8ce0c",
          "grade": true,
          "grade_id": "cell-b19aff83344102f8",
          "locked": true,
          "points": 0.5,
          "schema_version": 3,
          "solution": false,
          "task": false
        }
      },
      "outputs": [],
      "source": [
        "# TEST\n",
        "assert nume_col_info_df.shape == (6, 5)\n",
        "data = nume_col_info_df.loc[['missing_percentage', 'min', 'lower_quartile', 'median', 'upper_quartile', 'max'],\n",
        "                           ['Age', 'ConvertedComp', 'WorkWeekHrs', 'YearsCode', 'YearsCodePro']].values\n",
        "correct_data = np.array([[     29.5,      46.1,      36.2,      10.5,      28.1],\n",
        "                         [      1. ,       0. ,       1. ,       0. ,       0. ],\n",
        "                         [     24. ,   24648. ,      40. ,       6. ,       3. ],\n",
        "                         [     29. ,   54049. ,      40. ,      10. ,       6. ],\n",
        "                         [     35. ,   95000. ,      44. ,      17. ,      12. ],\n",
        "                         [    279. , 2000000. ,     475. ,      51. ,      51. ]])\n",
        "assert np.array_equal(data, correct_data)"
      ]
    },
    {
      "cell_type": "markdown",
      "metadata": {
        "id": "MsLqN6LBCcxu"
      },
      "source": [
        "**Is there an invalid value in each column? (does not consider missing values)**\n",
        "- Column \"Age\": you calculate the number of invalid values ​​of column \"Age\" (< corresponding value in column \"YearsCode\" OR < corresponding value in column \"YearsCodePro\") and save the result in variable `num_invalid_Age_vals`.\n",
        "- Column \"WorkWeekHrs\" (average working hours per week): we see max is 475 hours! Meanwhile, 7 days * 24 hours = 168 hours! Calculate the number of invalid values ​​of the column \"WorkWeekHrs\" (> 24 * 7) and store the result in the variable `num_invalid_WorkWeekHrs`.\n",
        "- Column \"YearsCode\": you calculate the number of invalid values ​​of column \"YearsCode\" (< corresponding value in column \"YearsCodePro\" OR > corresponding value in column \"Age\") and save the result in variable `num_invalid_YearsCode`.\n",
        "- Column \"YearsCodePro\": you calculate the number of invalid values ​​of column \"YearsCodePro\" (> corresponding value in column \"YearsCode\" OR > corresponding value in column \"Age\") and save the result in variable `num_invalid_YearsCodePro`."
      ]
    },
    {
      "cell_type": "code",
      "execution_count": 18,
      "metadata": {
        "deletable": false,
        "id": "c8Fu2-4UCcxu",
        "nbgrader": {
          "cell_type": "code",
          "checksum": "90f9bb6ed444c8392723dd5aca893623",
          "grade": false,
          "grade_id": "cell-59a58bdc5f54bb25",
          "locked": false,
          "schema_version": 3,
          "solution": true,
          "task": false
        }
      },
      "outputs": [],
      "source": [
        "# YOUR CODE HERE\n",
        "num_invalid_Age_vals = len(survey_df.loc[(survey_df['Age'] < survey_df['YearsCode']) | (survey_df['Age'] < survey_df['YearsCodePro'])])\n",
        "num_invalid_WorkWeekHrs_vals = len(survey_df.loc[survey_df['WorkWeekHrs'] > 7*24])\n",
        "num_invalid_YearsCode_vals = len(survey_df.loc[(survey_df['YearsCode'] < survey_df['YearsCodePro']) | (survey_df['YearsCode'] > survey_df['Age'])])\n",
        "num_invalid_YearsCodePro_vals = len(survey_df.loc[(survey_df['YearsCodePro'] > survey_df['YearsCode']) | (survey_df['YearsCodePro'] > survey_df['Age'])])\n",
        "#raise NotImplementedError()"
      ]
    },
    {
      "cell_type": "code",
      "execution_count": 19,
      "metadata": {
        "deletable": false,
        "editable": false,
        "id": "LB05r1KICcxv",
        "nbgrader": {
          "cell_type": "code",
          "checksum": "d077cbc3ef8d27ae7380e560cf825ccf",
          "grade": true,
          "grade_id": "cell-386769471c5b4b8f",
          "locked": true,
          "points": 0.5,
          "schema_version": 3,
          "solution": false,
          "task": false
        }
      },
      "outputs": [],
      "source": [
        "# TEST\n",
        "assert num_invalid_WorkWeekHrs_vals == 62\n",
        "assert num_invalid_Age_vals == 16\n",
        "assert num_invalid_YearsCode_vals == 499\n",
        "assert num_invalid_YearsCodePro_vals == 486"
      ]
    },
    {
      "cell_type": "markdown",
      "metadata": {
        "id": "rwO9x27jCcxv"
      },
      "source": [
        "Since the number of invalid values is also quite small, we can preprocess it by deleting lines containing invalid values."
      ]
    },
    {
      "cell_type": "markdown",
      "metadata": {
        "id": "7ulJd_mgCcxv"
      },
      "source": [
        "---"
      ]
    },
    {
      "cell_type": "markdown",
      "metadata": {
        "id": "Y9N8kDuRCcxv"
      },
      "source": [
        "## Preprocessing (0.5đ)"
      ]
    },
    {
      "cell_type": "markdown",
      "metadata": {
        "id": "bKQt4MQ3Ccxv"
      },
      "source": [
        "You will perform preprocessing to remove rows of DataFrame `survey_df` that contain at least one invalid value. After preprocessing `survey_df` will change."
      ]
    },
    {
      "cell_type": "code",
      "execution_count": 20,
      "metadata": {
        "deletable": false,
        "id": "v0TpGxlVCcxv",
        "nbgrader": {
          "cell_type": "code",
          "checksum": "ce7e1b5a79e5743055a026055a75c175",
          "grade": false,
          "grade_id": "cell-6a6242ef6d2c8c65",
          "locked": false,
          "schema_version": 3,
          "solution": true,
          "task": false
        }
      },
      "outputs": [],
      "source": [
        "# YOUR CODE HERE\n",
        "invalid_index = survey_df.loc[((survey_df['Age'] < survey_df['YearsCode']) | (survey_df['Age'] < survey_df['YearsCodePro'])) |\n",
        "                                (survey_df['WorkWeekHrs'] > 7*24) | \n",
        "                                ((survey_df['YearsCode'] < survey_df['YearsCodePro']) | (survey_df['YearsCode'] > survey_df['Age'])) |\n",
        "                                ((survey_df['YearsCodePro'] > survey_df['YearsCode']) | (survey_df['YearsCodePro'] > survey_df['Age']))].index\n",
        "survey_df = survey_df.drop(index = invalid_index)\n",
        "#raise NotImplementedError()"
      ]
    },
    {
      "cell_type": "code",
      "execution_count": 21,
      "metadata": {
        "deletable": false,
        "editable": false,
        "id": "1PeVGLt2Ccxv",
        "nbgrader": {
          "cell_type": "code",
          "checksum": "93bbf1f7cc93f01d800d703aeb494f04",
          "grade": true,
          "grade_id": "cell-9d04f770468db3c8",
          "locked": true,
          "points": 0.5,
          "schema_version": 3,
          "solution": false,
          "task": false
        }
      },
      "outputs": [],
      "source": [
        "# TEST\n",
        "assert len(survey_df) == 63900"
      ]
    },
    {
      "cell_type": "markdown",
      "metadata": {
        "id": "VQkadh5JCcxw"
      },
      "source": [
        "---"
      ]
    },
    {
      "cell_type": "markdown",
      "metadata": {
        "id": "VFetDQjwCcxw"
      },
      "source": [
        "## Back to data exploratory step"
      ]
    },
    {
      "cell_type": "markdown",
      "metadata": {
        "id": "5O_hOM0PCcxw"
      },
      "source": [
        "### For each column with a non-numeric data type, how are the values distributed? (1đ)"
      ]
    },
    {
      "cell_type": "markdown",
      "metadata": {
        "id": "Q9O2lz7GCcxw"
      },
      "source": [
        "For columns with non-numeric data types, you would calculate:\n",
        "- The percentage (from 0 to 100) of missing values\n",
        "- Number of values ​​(the values ​​here are different and we do not consider missing values): for the column that corresponds to the multichoice question (for example, the column \"DevType\"), each value has can contain many choices (choices are separated by semicolons), and directly counting the values ​​does not make much sense because the number of combinations of choices is quite large; another better way you would do it is to count the number of choices\n",
        "- The percentage (from 0 to 100) of each value is sorted by a descending percentage (we do not consider missing values): you use a dictionary to save, key is the value, value is the percentage; for the column that corresponds to the multichoice question, the same way as above\n",
        "\n",
        "You will save the result into a DataFrame `cate_col_info_df`, where:\n",
        "- The names of the columns are the names of the non-numeric columns in `survey_df`\n",
        "- The names of the rows are: \"missing_percentage\", \"num_values\", \"value_percentages\"\n",
        "\n",
        "all values ​​you round to 1 decimal place using the `.round(1)` method.\n",
        "\n",
        "Hint: you'll probably want to use the [explode](https://pandas.pydata.org/pandas-docs/stable/reference/api/pandas.Series.explode.html) method."
      ]
    },
    {
      "cell_type": "code",
      "execution_count": 22,
      "metadata": {
        "id": "EmQ_n4OWCcxw"
      },
      "outputs": [],
      "source": [
        "# Các cột ứng với câu hỏi khảo sát multichoice\n",
        "multichoice_cols = ['DevType', 'Gender', 'JobFactors', \n",
        "                    'LanguageWorkedWith', 'LanguageDesireNextYear', \n",
        "                    'MiscTechWorkedWith', 'MiscTechDesireNextYear', \n",
        "                    'NEWCollabToolsWorkedWith', 'NEWCollabToolsDesireNextYear', \n",
        "                    'PlatformWorkedWith', 'PlatformDesireNextYear', \n",
        "                    'NEWStuck']"
      ]
    },
    {
      "cell_type": "code",
      "execution_count": 23,
      "metadata": {
        "deletable": false,
        "id": "FA7oieGyCcxw",
        "nbgrader": {
          "cell_type": "code",
          "checksum": "84e72c4f9ef336aad46d35d52a8c5ee3",
          "grade": false,
          "grade_id": "cell-c1cfa0a88177079d",
          "locked": false,
          "schema_version": 3,
          "solution": true,
          "task": false
        }
      },
      "outputs": [
        {
          "data": {
            "text/html": [
              "<div>\n",
              "<style scoped>\n",
              "    .dataframe tbody tr th:only-of-type {\n",
              "        vertical-align: middle;\n",
              "    }\n",
              "\n",
              "    .dataframe tbody tr th {\n",
              "        vertical-align: top;\n",
              "    }\n",
              "\n",
              "    .dataframe thead th {\n",
              "        text-align: right;\n",
              "    }\n",
              "</style>\n",
              "<table border=\"1\" class=\"dataframe\">\n",
              "  <thead>\n",
              "    <tr style=\"text-align: right;\">\n",
              "      <th></th>\n",
              "      <th>MainBranch</th>\n",
              "      <th>Hobbyist</th>\n",
              "      <th>Country</th>\n",
              "      <th>DevType</th>\n",
              "      <th>EdLevel</th>\n",
              "      <th>Employment</th>\n",
              "      <th>Ethnicity</th>\n",
              "      <th>Gender</th>\n",
              "      <th>JobFactors</th>\n",
              "      <th>JobSat</th>\n",
              "      <th>LanguageDesireNextYear</th>\n",
              "      <th>LanguageWorkedWith</th>\n",
              "      <th>MiscTechDesireNextYear</th>\n",
              "      <th>MiscTechWorkedWith</th>\n",
              "      <th>NEWCollabToolsDesireNextYear</th>\n",
              "      <th>NEWCollabToolsWorkedWith</th>\n",
              "      <th>NEWEdImpt</th>\n",
              "      <th>NEWLearn</th>\n",
              "      <th>NEWOvertime</th>\n",
              "      <th>NEWStuck</th>\n",
              "      <th>OpSys</th>\n",
              "      <th>PlatformDesireNextYear</th>\n",
              "      <th>PlatformWorkedWith</th>\n",
              "    </tr>\n",
              "  </thead>\n",
              "  <tbody>\n",
              "    <tr>\n",
              "      <th>missing_percentage</th>\n",
              "      <td>0.5</td>\n",
              "      <td>0.1</td>\n",
              "      <td>0.6</td>\n",
              "      <td>23.6</td>\n",
              "      <td>11.0</td>\n",
              "      <td>0.9</td>\n",
              "      <td>28.6</td>\n",
              "      <td>21.5</td>\n",
              "      <td>23.4</td>\n",
              "      <td>30.1</td>\n",
              "      <td>16.0</td>\n",
              "      <td>11.0</td>\n",
              "      <td>34.3</td>\n",
              "      <td>37.5</td>\n",
              "      <td>26.6</td>\n",
              "      <td>18.0</td>\n",
              "      <td>25.0</td>\n",
              "      <td>12.9</td>\n",
              "      <td>33.1</td>\n",
              "      <td>14.7</td>\n",
              "      <td>12.8</td>\n",
              "      <td>21.5</td>\n",
              "      <td>16.5</td>\n",
              "    </tr>\n",
              "    <tr>\n",
              "      <th>num_values</th>\n",
              "      <td>5</td>\n",
              "      <td>2</td>\n",
              "      <td>183</td>\n",
              "      <td>23</td>\n",
              "      <td>9</td>\n",
              "      <td>7</td>\n",
              "      <td>204</td>\n",
              "      <td>3</td>\n",
              "      <td>11</td>\n",
              "      <td>5</td>\n",
              "      <td>25</td>\n",
              "      <td>25</td>\n",
              "      <td>19</td>\n",
              "      <td>19</td>\n",
              "      <td>11</td>\n",
              "      <td>11</td>\n",
              "      <td>5</td>\n",
              "      <td>4</td>\n",
              "      <td>5</td>\n",
              "      <td>9</td>\n",
              "      <td>4</td>\n",
              "      <td>16</td>\n",
              "      <td>16</td>\n",
              "    </tr>\n",
              "    <tr>\n",
              "      <th>value_percentages</th>\n",
              "      <td>I am a developer by profession                                                   73.5\n",
              "I am a stu...</td>\n",
              "      <td>Yes    78.2\n",
              "No     21.8\n",
              "Name: Hobbyist, dtype: float64</td>\n",
              "      <td>United States     19.5\n",
              "India             13.0\n",
              "United Kingdom     6.1\n",
              "Germany            6.1\n",
              "Cana...</td>\n",
              "      <td>Developer, back-end                              17.4\n",
              "Developer, full-stack                     ...</td>\n",
              "      <td>Bachelor’s degree (B.A., B.S., B.Eng., etc.)                                          46.3\n",
              "Maste...</td>\n",
              "      <td>Employed full-time                                      70.8\n",
              "Student                            ...</td>\n",
              "      <td>White or of European descent                                                                    ...</td>\n",
              "      <td>Man                                                  90.8\n",
              "Woman                                 ...</td>\n",
              "      <td>Languages, frameworks, and other technologies I’d be working with         17.5\n",
              "Office environmen...</td>\n",
              "      <td>Very satisfied                        32.4\n",
              "Slightly satisfied                    30.9\n",
              "Slightly d...</td>\n",
              "      <td>Python                   11.2\n",
              "JavaScript               11.0\n",
              "HTML/CSS                  8.7\n",
              "SQL   ...</td>\n",
              "      <td>JavaScript               13.5\n",
              "HTML/CSS                 12.6\n",
              "SQL                      10.9\n",
              "Python...</td>\n",
              "      <td>Node.js          17.0\n",
              "TensorFlow       10.1\n",
              ".NET Core         9.6\n",
              "React Native      8.4\n",
              ".NET    ...</td>\n",
              "      <td>Node.js          23.1\n",
              ".NET             15.7\n",
              ".NET Core        12.0\n",
              "Pandas            7.0\n",
              "TensorFl...</td>\n",
              "      <td>Github                            24.7\n",
              "Slack                             14.1\n",
              "Gitlab            ...</td>\n",
              "      <td>Github                            22.2\n",
              "Slack                             14.2\n",
              "Jira              ...</td>\n",
              "      <td>Fairly important                      26.2\n",
              "Very important                        24.4\n",
              "Somewhat i...</td>\n",
              "      <td>Every few months        37.3\n",
              "Once a year             36.9\n",
              "Once every few years    23.7\n",
              "Once a de...</td>\n",
              "      <td>Sometimes: 1-2 days per month but less than weekly          26.7\n",
              "Often: 1-2 days per week or mor...</td>\n",
              "      <td>Visit Stack Overflow                                26.7\n",
              "Do other work and come back later      ...</td>\n",
              "      <td>Windows        48.3\n",
              "Linux-based    26.6\n",
              "MacOS          25.1\n",
              "BSD             0.1\n",
              "Name: OpSys, dty...</td>\n",
              "      <td>Linux                          14.3\n",
              "Docker                         12.2\n",
              "AWS                     ...</td>\n",
              "      <td>Linux                          16.6\n",
              "Windows                        16.0\n",
              "Docker                  ...</td>\n",
              "    </tr>\n",
              "  </tbody>\n",
              "</table>\n",
              "</div>"
            ],
            "text/plain": [
              "                                                                                                             MainBranch  \\\n",
              "missing_percentage                                                                                                  0.5   \n",
              "num_values                                                                                                            5   \n",
              "value_percentages   I am a developer by profession                                                   73.5\n",
              "I am a stu...   \n",
              "\n",
              "                                                                  Hobbyist  \\\n",
              "missing_percentage                                                     0.1   \n",
              "num_values                                                               2   \n",
              "value_percentages   Yes    78.2\n",
              "No     21.8\n",
              "Name: Hobbyist, dtype: float64   \n",
              "\n",
              "                                                                                                                Country  \\\n",
              "missing_percentage                                                                                                  0.6   \n",
              "num_values                                                                                                          183   \n",
              "value_percentages   United States     19.5\n",
              "India             13.0\n",
              "United Kingdom     6.1\n",
              "Germany            6.1\n",
              "Cana...   \n",
              "\n",
              "                                                                                                                DevType  \\\n",
              "missing_percentage                                                                                                 23.6   \n",
              "num_values                                                                                                           23   \n",
              "value_percentages   Developer, back-end                              17.4\n",
              "Developer, full-stack                     ...   \n",
              "\n",
              "                                                                                                                EdLevel  \\\n",
              "missing_percentage                                                                                                 11.0   \n",
              "num_values                                                                                                            9   \n",
              "value_percentages   Bachelor’s degree (B.A., B.S., B.Eng., etc.)                                          46.3\n",
              "Maste...   \n",
              "\n",
              "                                                                                                             Employment  \\\n",
              "missing_percentage                                                                                                  0.9   \n",
              "num_values                                                                                                            7   \n",
              "value_percentages   Employed full-time                                      70.8\n",
              "Student                            ...   \n",
              "\n",
              "                                                                                                              Ethnicity  \\\n",
              "missing_percentage                                                                                                 28.6   \n",
              "num_values                                                                                                          204   \n",
              "value_percentages   White or of European descent                                                                    ...   \n",
              "\n",
              "                                                                                                                 Gender  \\\n",
              "missing_percentage                                                                                                 21.5   \n",
              "num_values                                                                                                            3   \n",
              "value_percentages   Man                                                  90.8\n",
              "Woman                                 ...   \n",
              "\n",
              "                                                                                                             JobFactors  \\\n",
              "missing_percentage                                                                                                 23.4   \n",
              "num_values                                                                                                           11   \n",
              "value_percentages   Languages, frameworks, and other technologies I’d be working with         17.5\n",
              "Office environmen...   \n",
              "\n",
              "                                                                                                                 JobSat  \\\n",
              "missing_percentage                                                                                                 30.1   \n",
              "num_values                                                                                                            5   \n",
              "value_percentages   Very satisfied                        32.4\n",
              "Slightly satisfied                    30.9\n",
              "Slightly d...   \n",
              "\n",
              "                                                                                                 LanguageDesireNextYear  \\\n",
              "missing_percentage                                                                                                 16.0   \n",
              "num_values                                                                                                           25   \n",
              "value_percentages   Python                   11.2\n",
              "JavaScript               11.0\n",
              "HTML/CSS                  8.7\n",
              "SQL   ...   \n",
              "\n",
              "                                                                                                     LanguageWorkedWith  \\\n",
              "missing_percentage                                                                                                 11.0   \n",
              "num_values                                                                                                           25   \n",
              "value_percentages   JavaScript               13.5\n",
              "HTML/CSS                 12.6\n",
              "SQL                      10.9\n",
              "Python...   \n",
              "\n",
              "                                                                                                 MiscTechDesireNextYear  \\\n",
              "missing_percentage                                                                                                 34.3   \n",
              "num_values                                                                                                           19   \n",
              "value_percentages   Node.js          17.0\n",
              "TensorFlow       10.1\n",
              ".NET Core         9.6\n",
              "React Native      8.4\n",
              ".NET    ...   \n",
              "\n",
              "                                                                                                     MiscTechWorkedWith  \\\n",
              "missing_percentage                                                                                                 37.5   \n",
              "num_values                                                                                                           19   \n",
              "value_percentages   Node.js          23.1\n",
              ".NET             15.7\n",
              ".NET Core        12.0\n",
              "Pandas            7.0\n",
              "TensorFl...   \n",
              "\n",
              "                                                                                           NEWCollabToolsDesireNextYear  \\\n",
              "missing_percentage                                                                                                 26.6   \n",
              "num_values                                                                                                           11   \n",
              "value_percentages   Github                            24.7\n",
              "Slack                             14.1\n",
              "Gitlab            ...   \n",
              "\n",
              "                                                                                               NEWCollabToolsWorkedWith  \\\n",
              "missing_percentage                                                                                                 18.0   \n",
              "num_values                                                                                                           11   \n",
              "value_percentages   Github                            22.2\n",
              "Slack                             14.2\n",
              "Jira              ...   \n",
              "\n",
              "                                                                                                              NEWEdImpt  \\\n",
              "missing_percentage                                                                                                 25.0   \n",
              "num_values                                                                                                            5   \n",
              "value_percentages   Fairly important                      26.2\n",
              "Very important                        24.4\n",
              "Somewhat i...   \n",
              "\n",
              "                                                                                                               NEWLearn  \\\n",
              "missing_percentage                                                                                                 12.9   \n",
              "num_values                                                                                                            4   \n",
              "value_percentages   Every few months        37.3\n",
              "Once a year             36.9\n",
              "Once every few years    23.7\n",
              "Once a de...   \n",
              "\n",
              "                                                                                                            NEWOvertime  \\\n",
              "missing_percentage                                                                                                 33.1   \n",
              "num_values                                                                                                            5   \n",
              "value_percentages   Sometimes: 1-2 days per month but less than weekly          26.7\n",
              "Often: 1-2 days per week or mor...   \n",
              "\n",
              "                                                                                                               NEWStuck  \\\n",
              "missing_percentage                                                                                                 14.7   \n",
              "num_values                                                                                                            9   \n",
              "value_percentages   Visit Stack Overflow                                26.7\n",
              "Do other work and come back later      ...   \n",
              "\n",
              "                                                                                                                  OpSys  \\\n",
              "missing_percentage                                                                                                 12.8   \n",
              "num_values                                                                                                            4   \n",
              "value_percentages   Windows        48.3\n",
              "Linux-based    26.6\n",
              "MacOS          25.1\n",
              "BSD             0.1\n",
              "Name: OpSys, dty...   \n",
              "\n",
              "                                                                                                 PlatformDesireNextYear  \\\n",
              "missing_percentage                                                                                                 21.5   \n",
              "num_values                                                                                                           16   \n",
              "value_percentages   Linux                          14.3\n",
              "Docker                         12.2\n",
              "AWS                     ...   \n",
              "\n",
              "                                                                                                     PlatformWorkedWith  \n",
              "missing_percentage                                                                                                 16.5  \n",
              "num_values                                                                                                           16  \n",
              "value_percentages   Linux                          16.6\n",
              "Windows                        16.0\n",
              "Docker                  ...  "
            ]
          },
          "execution_count": 23,
          "metadata": {},
          "output_type": "execute_result"
        }
      ],
      "source": [
        "pd.set_option('display.max_colwidth', 100) # Để dễ nhìn\n",
        "pd.set_option('display.max_columns', None) # Để dễ nhìn\n",
        "# YOUR CODE HERE\n",
        "cate_cols = survey_df.select_dtypes(include='object')\n",
        "\n",
        "missing_percentage = dict((cate_cols.isnull().sum() * 100 / len(cate_cols)).round(1))\n",
        "\n",
        "def num_vals_helpler(col):\n",
        "    if col in multichoice_cols:\n",
        "        return col, cate_cols[col].str.split(';').explode().nunique()\n",
        "    else:\n",
        "        return col, cate_cols[col].nunique()\n",
        "\n",
        "num_values = dict(map(num_vals_helpler, cate_cols.keys()))\n",
        "\n",
        "def value_percentage_helper(col):\n",
        "    if col in multichoice_cols:\n",
        "        tmp_col = cate_cols[col].str.split(';').explode()\n",
        "    else:\n",
        "        tmp_col = cate_cols[col]\n",
        "    return col, (tmp_col.value_counts() * 100 / len(tmp_col.dropna())).round(1)\n",
        "\n",
        "value_percentages = dict(map(value_percentage_helper, cate_cols.keys()))\n",
        "\n",
        "cate_col_info_df = pd.DataFrame([missing_percentage, num_values, value_percentages], columns=cate_cols.columns, \n",
        "                                 index=[\"missing_percentage\", \"num_values\", \"value_percentages\"])\n",
        "\n",
        "#raise NotImplementedError()\n",
        "cate_col_info_df"
      ]
    },
    {
      "cell_type": "code",
      "execution_count": 24,
      "metadata": {
        "deletable": false,
        "editable": false,
        "id": "F2XlP3yHCcxx",
        "nbgrader": {
          "cell_type": "code",
          "checksum": "fe2ab946f8702d5d5233c4746646bae7",
          "grade": true,
          "grade_id": "cell-e748038de60d2ab7",
          "locked": true,
          "points": 1,
          "schema_version": 3,
          "solution": false,
          "task": false
        }
      },
      "outputs": [],
      "source": [
        "# TEST\n",
        "c = cate_col_info_df['MainBranch']\n",
        "assert c.loc['missing_percentage'] == 0.5\n",
        "assert c.loc['num_values'] == 5\n",
        "assert c.loc['value_percentages']['I am a developer by profession'] == 73.5\n",
        "\n",
        "c = cate_col_info_df['Hobbyist']\n",
        "assert c.loc['missing_percentage'] == 0.1\n",
        "assert c.loc['num_values'] == 2\n",
        "assert c.loc['value_percentages']['Yes'] == 78.2\n",
        "\n",
        "c = cate_col_info_df['DevType']\n",
        "assert c.loc['missing_percentage'] == 23.6\n",
        "assert c.loc['num_values'] == 23\n",
        "assert c.loc['value_percentages']['Academic researcher'] == 2.2\n",
        "\n",
        "c = cate_col_info_df['PlatformWorkedWith']\n",
        "assert c.loc['missing_percentage'] == 16.5\n",
        "assert c.loc['num_values'] == 16\n",
        "assert c.loc['value_percentages']['Docker'] == 10.6"
      ]
    },
    {
      "cell_type": "markdown",
      "metadata": {
        "id": "rYCpGXjVCcxx"
      },
      "source": [
        "---"
      ]
    },
    {
      "cell_type": "markdown",
      "metadata": {
        "id": "rgq1v6cACcxx"
      },
      "source": [
        "## Make a question"
      ]
    },
    {
      "cell_type": "markdown",
      "metadata": {
        "id": "pgR8VNRICcxx"
      },
      "source": [
        "After exploring the data, we have a better understanding of the data. Now, let's see if there are any questions that can be answered with this data.\n",
        "\n",
        "**A possible question is:** Which platform (Windows, Linux, Docker, AWS, ...) is the most popular, which is the second favorite, which is the three favorite, ...?\n",
        "\n",
        "A platform is considered popular if a person is already using the platform (column \"PlatformWorkedWith\") and wants to continue using the platform in the next year (column \"PlatformDesireNextYear\").\n",
        "\n",
        "Answering this question will partly help us orient which platform to focus on to prepare for the future. (only true in this lab)"
      ]
    },
    {
      "cell_type": "markdown",
      "metadata": {
        "id": "7EGtW1yVCcxx"
      },
      "source": [
        "---"
      ]
    },
    {
      "cell_type": "markdown",
      "metadata": {
        "id": "PLO5wximCcxx"
      },
      "source": [
        "## Preprocessing"
      ]
    },
    {
      "cell_type": "markdown",
      "metadata": {
        "id": "bi_sE8hhCcxy"
      },
      "source": [
        "If you feel you need to do more preprocessing to prepare your data for analysis, do it here. This step is optional."
      ]
    },
    {
      "cell_type": "code",
      "execution_count": 25,
      "metadata": {
        "id": "u-uDVqdJCcxy"
      },
      "outputs": [],
      "source": [
        "# YOUR CODE HERE (OPTION) \n",
        "workedWith = survey_df['PlatformWorkedWith'].dropna().str.split(';').explode()\n",
        "desire = survey_df['PlatformDesireNextYear'].dropna().str.split(';').explode()\n",
        "\n",
        "new = pd.merge(workedWith, desire, left_index=True, right_index=True)\n",
        "new['cond'] = new.apply(lambda x: True if x['PlatformWorkedWith'] == x['PlatformDesireNextYear'] else False, axis = 1)\n",
        "\n",
        "new = new.loc[new['cond'] == True]\n",
        "new = new['PlatformWorkedWith']"
      ]
    },
    {
      "cell_type": "markdown",
      "metadata": {
        "id": "sm-Hq9hHCcxy"
      },
      "source": [
        "---"
      ]
    },
    {
      "cell_type": "markdown",
      "metadata": {
        "id": "TOIzYkO-Ccxy"
      },
      "source": [
        "## Data Analysis (2.25đ)"
      ]
    },
    {
      "cell_type": "markdown",
      "metadata": {
        "id": "Jc8q8ExnCcxy"
      },
      "source": [
        "Now, you will perform data analysis to answer the question above. Specifically, the steps are as follows:\n",
        "- Step 1: calculate Series `most_loved_platforms`, where:\n",
        "     - Index is the name of the platform (in the data discovery step, you have seen there are 16 platforms in all)\n",
        "     - Data is the percentage of favorites (sorted in descending order)\n",
        "- Step 2: from Series `most_loved_platforms`, draw a bar chart:\n",
        "     - You put the bars horizontally (for easy viewing)\n",
        "     - You name the horizontal axis \"Percentage\""
      ]
    },
    {
      "cell_type": "markdown",
      "metadata": {
        "id": "-ouhawlOCcxy"
      },
      "source": [
        "Step 1"
      ]
    },
    {
      "cell_type": "code",
      "execution_count": 26,
      "metadata": {
        "deletable": false,
        "id": "4rZE3Q8mCcxy",
        "nbgrader": {
          "cell_type": "code",
          "checksum": "0a9055745bab2ee00733aac0a056b17f",
          "grade": false,
          "grade_id": "cell-6d34c88e2fd46b33",
          "locked": false,
          "schema_version": 3,
          "solution": true,
          "task": false
        }
      },
      "outputs": [
        {
          "data": {
            "text/plain": [
              "Linux                          20.2\n",
              "Windows                        14.6\n",
              "Docker                         12.3\n",
              "AWS                             8.5\n",
              "MacOS                           7.4\n",
              "Android                         7.1\n",
              "Raspberry Pi                    4.7\n",
              "Microsoft Azure                 4.3\n",
              "Google Cloud Platform           4.1\n",
              "Kubernetes                      3.9\n",
              "iOS                             3.5\n",
              "Arduino                         2.7\n",
              "Heroku                          2.4\n",
              "WordPress                       2.2\n",
              "Slack Apps and Integrations     1.8\n",
              "IBM Cloud or Watson             0.3\n",
              "Name: PlatformWorkedWith, dtype: float64"
            ]
          },
          "execution_count": 26,
          "metadata": {},
          "output_type": "execute_result"
        }
      ],
      "source": [
        "# YOUR CODE HERE\n",
        "val_counts = (new.value_counts() * 100 / new.value_counts().sum()).round(1)\n",
        "most_loved_platforms = pd.Series(val_counts)\n",
        "#raise NotImplementedError()\n",
        "most_loved_platforms"
      ]
    },
    {
      "cell_type": "code",
      "execution_count": 27,
      "metadata": {
        "deletable": false,
        "editable": false,
        "id": "qvAqokmFCcxy",
        "nbgrader": {
          "cell_type": "code",
          "checksum": "0e1af6ae8a0d65cf90e9d8d9276bf6bb",
          "grade": true,
          "grade_id": "cell-1d22896d0f3f2394",
          "locked": true,
          "points": 2,
          "schema_version": 3,
          "solution": false,
          "task": false
        }
      },
      "outputs": [],
      "source": [
        "# TEST\n",
        "assert len(most_loved_platforms) == 16\n",
        "assert most_loved_platforms.loc['Linux'] == 20.2\n",
        "assert most_loved_platforms.loc['Windows'] == 14.6\n",
        "assert most_loved_platforms.loc['Docker'] == 12.3"
      ]
    },
    {
      "cell_type": "markdown",
      "metadata": {
        "id": "4hvf-krFCcxz"
      },
      "source": [
        "Step 2"
      ]
    },
    {
      "cell_type": "code",
      "execution_count": 28,
      "metadata": {
        "deletable": false,
        "id": "RmnBsay8Ccxz",
        "nbgrader": {
          "cell_type": "code",
          "checksum": "e9113040c23a1b8cbfde861c4efe685f",
          "grade": true,
          "grade_id": "cell-5395c611d6065339",
          "locked": false,
          "points": 0.25,
          "schema_version": 3,
          "solution": true,
          "task": false
        }
      },
      "outputs": [
        {
          "data": {
            "text/plain": [
              "Text(0.5, 0, 'Percentage')"
            ]
          },
          "execution_count": 28,
          "metadata": {},
          "output_type": "execute_result"
        },
        {
          "data": {
            "image/png": "[encoded data removed]",
            "text/plain": [
              "<Figure size 640x480 with 1 Axes>"
            ]
          },
          "metadata": {},
          "output_type": "display_data"
        }
      ],
      "source": [
        "# YOUR CODE HERE\n",
        "plt.barh(most_loved_platforms.keys(), most_loved_platforms.values)\n",
        "plt.gca().invert_yaxis()\n",
        "plt.xlabel('Percentage')\n",
        "#raise NotImplementedError()"
      ]
    },
    {
      "cell_type": "markdown",
      "metadata": {
        "id": "6-kaDnbSCcxz"
      },
      "source": [
        "---"
      ]
    },
    {
      "cell_type": "markdown",
      "metadata": {
        "id": "2KqDXp3iCcxz"
      },
      "source": [
        "## Make your question (1.5đ)"
      ]
    },
    {
      "cell_type": "markdown",
      "metadata": {
        "id": "66bXTe-8Ccxz"
      },
      "source": [
        "Now it's your turn to think for yourself and come up with a question that can be answered with data. In addition to asking questions, you must also explain to the reader what the benefit of answering the question would be. You should be a little creative, don't ask the same question as your question above. "
      ]
    },
    {
      "cell_type": "markdown",
      "metadata": {
        "deletable": false,
        "id": "KHEJ-xbtCcxz",
        "nbgrader": {
          "cell_type": "markdown",
          "checksum": "8e88fb70d5a2aac41af1566276a95321",
          "grade": true,
          "grade_id": "cell-2e7a92ae99ca7449",
          "locked": false,
          "points": 1.5,
          "schema_version": 3,
          "solution": true,
          "task": false
        }
      },
      "source": [
        "YOUR ANSWER HERE: What is the highest OpSys paid job ?\n",
        "Answering this question will help us know what Obsys job is paid the most and it's median salary per year."
      ]
    },
    {
      "cell_type": "markdown",
      "metadata": {
        "id": "vsAPJ3GHCcx0"
      },
      "source": [
        "---"
      ]
    },
    {
      "cell_type": "markdown",
      "metadata": {
        "id": "2T7DeipdCcx0"
      },
      "source": [
        "## Preprocessing"
      ]
    },
    {
      "cell_type": "markdown",
      "metadata": {
        "id": "swAua7FBCcx0"
      },
      "source": [
        "This section is optional."
      ]
    },
    {
      "cell_type": "code",
      "execution_count": 29,
      "metadata": {
        "id": "b3i5Xm-iCcx0"
      },
      "outputs": [],
      "source": [
        "# YOUR CODE HERE (OPTION) \n"
      ]
    },
    {
      "cell_type": "markdown",
      "metadata": {
        "id": "F7lqqBcZCcx0"
      },
      "source": [
        "---"
      ]
    },
    {
      "cell_type": "markdown",
      "metadata": {
        "id": "xFWzGczjCcx0"
      },
      "source": [
        "## Analyze data to answer your questions (2đ)"
      ]
    },
    {
      "cell_type": "code",
      "execution_count": 30,
      "metadata": {
        "deletable": false,
        "id": "S7oQ_9JjCcx0",
        "nbgrader": {
          "cell_type": "code",
          "checksum": "57f44ba4e568b05148da80fc7161fc97",
          "grade": true,
          "grade_id": "cell-83e11892184cf811",
          "locked": false,
          "points": 2,
          "schema_version": 3,
          "solution": true,
          "task": false
        }
      },
      "outputs": [
        {
          "data": {
            "text/plain": [
              "Text(0, 0.5, 'USD/year')"
            ]
          },
          "execution_count": 30,
          "metadata": {},
          "output_type": "execute_result"
        },
        {
          "data": {
            "image/png": "[encoded data removed]",
            "text/plain": [
              "<Figure size 640x480 with 1 Axes>"
            ]
          },
          "metadata": {},
          "output_type": "display_data"
        }
      ],
      "source": [
        "# YOUR CODE HERE\n",
        "test = survey_df[['OpSys', 'ConvertedComp']].dropna()\n",
        "opSys = test['OpSys'].unique()\n",
        "\n",
        "linux = test.loc[test['OpSys'] == 'Linux-based']\n",
        "l_median = linux['ConvertedComp'].median()\n",
        "\n",
        "win = test.loc[test['OpSys'] == 'Windows']\n",
        "win_median = win['ConvertedComp'].median()\n",
        "\n",
        "mac = test.loc[test['OpSys'] == 'MacOS']\n",
        "mac_median = mac['ConvertedComp'].median()\n",
        "\n",
        "bsd = test.loc[test['OpSys'] == 'BSD']\n",
        "bsd_medeian = bsd['ConvertedComp'].median()\n",
        "\n",
        "barplot = plt.bar(opSys, [l_median, win_median, mac_median, bsd_medeian])\n",
        "plt.bar_label(barplot, label_type='edge')\n",
        "\n",
        "plt.ylabel(\"USD/year\")\n",
        "#raise NotImplementedError()"
      ]
    },
    {
      "cell_type": "code",
      "execution_count": 31,
      "metadata": {},
      "outputs": [
        {
          "data": {
            "text/plain": [
              "Windows        26919\n",
              "Linux-based    14804\n",
              "MacOS          13971\n",
              "BSD               49\n",
              "Name: OpSys, dtype: int64"
            ]
          },
          "execution_count": 31,
          "metadata": {},
          "output_type": "execute_result"
        }
      ],
      "source": [
        "survey_df['OpSys'].value_counts()"
      ]
    },
    {
      "cell_type": "markdown",
      "metadata": {},
      "source": [
        "As we can see, MacOS is the highest OpSys paid job. Next is BSD (there are not much values about BSD, value_counts = 49). Windowns and Linux-based are approximately the same."
      ]
    }
  ],
  "metadata": {
    "colab": {
      "provenance": []
    },
    "kernelspec": {
      "display_name": "Python 3.8.8 ('min_ds-env')",
      "language": "python",
      "name": "python3"
    },
    "language_info": {
      "codemirror_mode": {
        "name": "ipython",
        "version": 3
      },
      "file_extension": ".py",
      "mimetype": "text/x-python",
      "name": "python",
      "nbconvert_exporter": "python",
      "pygments_lexer": "ipython3",
      "version": "3.8.8"
    },
    "toc": {
      "base_numbering": 1,
      "nav_menu": {},
      "number_sections": false,
      "sideBar": true,
      "skip_h1_title": true,
      "title_cell": "Table of Contents",
      "title_sidebar": "Contents",
      "toc_cell": false,
      "toc_position": {
        "height": "calc(100% - 180px)",
        "left": "10px",
        "top": "150px",
        "width": "175px"
      },
      "toc_section_display": true,
      "toc_window_display": true
    },
    "vscode": {
      "interpreter": {
        "hash": "8395ca0b5873fc3de583ead4c56c35736342a2bed86f544c50a56c83355a692e"
      }
    }
  },
  "nbformat": 4,
  "nbformat_minor": 0
}
